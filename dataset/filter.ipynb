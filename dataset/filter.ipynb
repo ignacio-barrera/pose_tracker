{
 "cells": [
  {
   "cell_type": "markdown",
   "metadata": {},
   "source": [
    "#### Jupiter para filtrar imagenes de COCO WholeBody las cuales contean a lo mas una persona."
   ]
  },
  {
   "cell_type": "code",
   "execution_count": 2,
   "metadata": {},
   "outputs": [
    {
     "name": "stdout",
     "output_type": "stream",
     "text": [
      "Dataset filtrado guardado exitosamente.\n"
     ]
    }
   ],
   "source": [
    "import json\n",
    "\n",
    "# Cargar el dataset completo\n",
    "with open('./evaluation/coco_wholebody_val_v1.0.json', 'r') as file:\n",
    "    data = json.load(file)\n",
    "\n",
    "image_annotations_count = {}\n",
    "\n",
    "for annotation in data['annotations']:\n",
    "    image_id = annotation['image_id']\n",
    "    if image_id not in image_annotations_count:\n",
    "        image_annotations_count[image_id] = 0\n",
    "    image_annotations_count[image_id] += 1\n",
    "\n",
    "filtered_image_ids = {image_id for image_id, count in image_annotations_count.items() if count <= 1}\n",
    "\n",
    "filtered_images = [image for image in data['images'] if image['id'] in filtered_image_ids]\n",
    "filtered_annotations = [annotation for annotation in data['annotations'] if annotation['image_id'] in filtered_image_ids]\n",
    "\n",
    "filtered_data = {\n",
    "    \"info\": data[\"info\"],\n",
    "    \"licenses\": data[\"licenses\"],\n",
    "    \"images\": filtered_images,\n",
    "    \"annotations\": filtered_annotations,\n",
    "    \"categories\": data[\"categories\"]\n",
    "}\n",
    "\n",
    "with open('./evaluation/filtered_coco_wholebody_dataset.json', 'w') as file:\n",
    "    json.dump(filtered_data, file)\n",
    "\n",
    "print(\"Dataset filtrado guardado exitosamente.\")\n"
   ]
  }
 ],
 "metadata": {
  "kernelspec": {
   "display_name": "pytorch",
   "language": "python",
   "name": "python3"
  },
  "language_info": {
   "codemirror_mode": {
    "name": "ipython",
    "version": 3
   },
   "file_extension": ".py",
   "mimetype": "text/x-python",
   "name": "python",
   "nbconvert_exporter": "python",
   "pygments_lexer": "ipython3",
   "version": "3.11.5"
  }
 },
 "nbformat": 4,
 "nbformat_minor": 2
}
