{
 "cells": [
  {
   "cell_type": "code",
   "execution_count": 3,
   "metadata": {},
   "outputs": [
    {
     "name": "stdout",
     "output_type": "stream",
     "text": [
      "Collecting alphapose\n",
      "  Using cached alphapose-1.1-py3-none-any.whl.metadata (1.1 kB)\n",
      "Requirement already satisfied: six in c:\\users\\franf\\appdata\\roaming\\python\\python311\\site-packages (from alphapose) (1.16.0)\n",
      "Collecting terminaltables (from alphapose)\n",
      "  Using cached terminaltables-3.1.10-py2.py3-none-any.whl.metadata (3.5 kB)\n",
      "Collecting scipy==1.1.0 (from alphapose)\n",
      "  Using cached scipy-1.1.0.tar.gz (15.6 MB)\n",
      "  Preparing metadata (setup.py): started\n",
      "  Preparing metadata (setup.py): finished with status 'done'\n",
      "Requirement already satisfied: opencv-python in c:\\users\\franf\\appdata\\local\\programs\\python\\python311\\lib\\site-packages (from alphapose) (4.10.0.82)\n",
      "Requirement already satisfied: matplotlib in c:\\users\\franf\\appdata\\local\\programs\\python\\python311\\lib\\site-packages (from alphapose) (3.7.1)\n",
      "Collecting visdom (from alphapose)\n",
      "  Using cached visdom-0.2.4.tar.gz (1.4 MB)\n",
      "  Preparing metadata (setup.py): started\n",
      "  Preparing metadata (setup.py): finished with status 'done'\n",
      "Requirement already satisfied: tqdm in c:\\users\\franf\\appdata\\local\\programs\\python\\python311\\lib\\site-packages (from alphapose) (4.66.4)\n",
      "Collecting tensorboardx (from alphapose)\n",
      "  Using cached tensorboardX-2.6.2.2-py2.py3-none-any.whl.metadata (5.8 kB)\n",
      "Collecting easydict (from alphapose)\n",
      "  Using cached easydict-1.13-py3-none-any.whl.metadata (4.2 kB)\n",
      "Requirement already satisfied: pyyaml in c:\\users\\franf\\appdata\\local\\programs\\python\\python311\\lib\\site-packages (from alphapose) (6.0.1)\n",
      "Requirement already satisfied: torch>=1.1.0 in c:\\users\\franf\\appdata\\local\\programs\\python\\python311\\lib\\site-packages (from alphapose) (2.3.1)\n",
      "Requirement already satisfied: torchvision>=0.3.0 in c:\\users\\franf\\appdata\\local\\programs\\python\\python311\\lib\\site-packages (from alphapose) (0.18.1)\n",
      "Collecting munkres (from alphapose)\n",
      "  Using cached munkres-1.1.4-py2.py3-none-any.whl.metadata (980 bytes)\n",
      "Collecting timm==0.1.20 (from alphapose)\n",
      "  Using cached timm-0.1.20-py3-none-any.whl.metadata (38 kB)\n",
      "Collecting natsort (from alphapose)\n",
      "  Using cached natsort-8.4.0-py3-none-any.whl.metadata (21 kB)\n",
      "Collecting pycocotools==2.0.0 (from alphapose)\n",
      "  Using cached pycocotools-2.0.0.tar.gz (1.5 MB)\n",
      "  Preparing metadata (setup.py): started\n",
      "  Preparing metadata (setup.py): finished with status 'error'\n"
     ]
    },
    {
     "name": "stderr",
     "output_type": "stream",
     "text": [
      "DEPRECATION: Loading egg at c:\\users\\franf\\appdata\\local\\programs\\python\\python311\\lib\\site-packages\\vboxapi-1.0-py3.11.egg is deprecated. pip 24.3 will enforce this behaviour change. A possible replacement is to use pip for package installation.. Discussion can be found at https://github.com/pypa/pip/issues/12330\n",
      "  error: subprocess-exited-with-error\n",
      "  \n",
      "  × python setup.py egg_info did not run successfully.\n",
      "  │ exit code: 1\n",
      "  ╰─> [6 lines of output]\n",
      "      Traceback (most recent call last):\n",
      "        File \"<string>\", line 2, in <module>\n",
      "        File \"<pip-setuptools-caller>\", line 34, in <module>\n",
      "        File \"C:\\Users\\franf\\AppData\\Local\\Temp\\pip-install-_w7pw3i0\\pycocotools_17c2133df4074f039d17349433e3b402\\setup.py\", line 2, in <module>\n",
      "          from Cython.Build import cythonize\n",
      "      ModuleNotFoundError: No module named 'Cython'\n",
      "      [end of output]\n",
      "  \n",
      "  note: This error originates from a subprocess, and is likely not a problem with pip.\n",
      "error: metadata-generation-failed\n",
      "\n",
      "× Encountered error while generating package metadata.\n",
      "╰─> See above for output.\n",
      "\n",
      "note: This is an issue with the package mentioned above, not pip.\n",
      "hint: See above for details.\n"
     ]
    }
   ],
   "source": [
    "!pip install alphapose"
   ]
  },
  {
   "cell_type": "code",
   "execution_count": 4,
   "metadata": {},
   "outputs": [
    {
     "ename": "ModuleNotFoundError",
     "evalue": "No module named 'alphapose'",
     "output_type": "error",
     "traceback": [
      "\u001b[1;31m---------------------------------------------------------------------------\u001b[0m",
      "\u001b[1;31mModuleNotFoundError\u001b[0m                       Traceback (most recent call last)",
      "Cell \u001b[1;32mIn[4], line 3\u001b[0m\n\u001b[0;32m      1\u001b[0m \u001b[38;5;28;01mimport\u001b[39;00m \u001b[38;5;21;01mcv2\u001b[39;00m\n\u001b[0;32m      2\u001b[0m \u001b[38;5;28;01mimport\u001b[39;00m \u001b[38;5;21;01mnumpy\u001b[39;00m \u001b[38;5;28;01mas\u001b[39;00m \u001b[38;5;21;01mnp\u001b[39;00m\n\u001b[1;32m----> 3\u001b[0m \u001b[38;5;28;01mfrom\u001b[39;00m \u001b[38;5;21;01malphapose\u001b[39;00m \u001b[38;5;28;01mimport\u001b[39;00m AlphaPose\n\u001b[0;32m      5\u001b[0m \u001b[38;5;66;03m# Initialize AlphaPose model\u001b[39;00m\n\u001b[0;32m      6\u001b[0m pose \u001b[38;5;241m=\u001b[39m AlphaPose(model_dir\u001b[38;5;241m=\u001b[39m\u001b[38;5;124m\"\u001b[39m\u001b[38;5;124mmodels\u001b[39m\u001b[38;5;124m\"\u001b[39m)\n",
      "\u001b[1;31mModuleNotFoundError\u001b[0m: No module named 'alphapose'"
     ]
    }
   ],
   "source": [
    "import cv2\n",
    "import numpy as np\n",
    "from alphapose import AlphaPose\n",
    "\n",
    "# Initialize AlphaPose model\n",
    "pose = AlphaPose(model_dir=\"models\")\n",
    "\n",
    "# Read the image\n",
    "image = cv2.imread(\"../yolo/videoframe_0.jpg\")  # Replace with the actual image path\n",
    "\n",
    "# Detect poses in the image\n",
    "detections = pose.process(image)\n",
    "\n",
    "# Check if any poses were detected\n",
    "if detections['keypoints'].shape[0] > 0:\n",
    "\n",
    "    # Get the first detected pose\n",
    "    pose_keypoints = detections['keypoints'][0]\n",
    "\n",
    "    # Draw the pose on the image\n",
    "    for i, point in enumerate(pose_keypoints):\n",
    "        if point[2] > 0:  # Check if the point is valid (confidence > 0)\n",
    "            cv2.circle(image, (int(point[0]), int(point[1])), 3, (0, 0, 255), -1)\n",
    "\n",
    "    # Display the image with the drawn pose\n",
    "    cv2.imshow(\"Pose Estimation\", image)\n",
    "    cv2.waitKey(0)\n",
    "\n",
    "else:\n",
    "    print(\"No poses detected in the image.\")\n"
   ]
  }
 ],
 "metadata": {
  "kernelspec": {
   "display_name": "Python 3",
   "language": "python",
   "name": "python3"
  },
  "language_info": {
   "codemirror_mode": {
    "name": "ipython",
    "version": 3
   },
   "file_extension": ".py",
   "mimetype": "text/x-python",
   "name": "python",
   "nbconvert_exporter": "python",
   "pygments_lexer": "ipython3",
   "version": "3.11.5"
  }
 },
 "nbformat": 4,
 "nbformat_minor": 2
}
