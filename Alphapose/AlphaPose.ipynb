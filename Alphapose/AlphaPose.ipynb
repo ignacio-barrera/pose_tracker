{
 "cells": [
  {
   "cell_type": "markdown",
   "metadata": {},
   "source": [
    "## Instalación"
   ]
  },
  {
   "cell_type": "code",
   "execution_count": 4,
   "metadata": {},
   "outputs": [
    {
     "name": "stderr",
     "output_type": "stream",
     "text": [
      "Cloning into 'AlphaPose'...\n"
     ]
    }
   ],
   "source": [
    "# 3. Get AlphaPose\n",
    "!git clone https://github.com/MVIG-SJTU/AlphaPose.git"
   ]
  },
  {
   "cell_type": "code",
   "execution_count": 8,
   "metadata": {},
   "outputs": [
    {
     "name": "stdout",
     "output_type": "stream",
     "text": [
      "2.1.0\n"
     ]
    }
   ],
   "source": [
    "import torch\n",
    "print(torch.__version__)"
   ]
  },
  {
   "cell_type": "code",
   "execution_count": null,
   "metadata": {},
   "outputs": [],
   "source": [
    "!pip install numpy==1.23"
   ]
  },
  {
   "cell_type": "code",
   "execution_count": null,
   "metadata": {},
   "outputs": [],
   "source": [
    "!conda install -c fvcore -c iopath -c conda-forge fvcore iopath\n",
    "!conda install -c bottler nvidiacub\n",
    "!pip install git+ssh://git@github.com/facebookresearch/pytorch3d.git@stable"
   ]
  },
  {
   "cell_type": "markdown",
   "metadata": {},
   "source": [
    "## Ejecución"
   ]
  },
  {
   "cell_type": "code",
   "execution_count": null,
   "metadata": {},
   "outputs": [],
   "source": [
    "!python scripts/demo_inference.py --cfg configs/coco/resnet/256x192_res50_lr1e-3_1x-simple.yaml --checkpoint pretrained_models/simple_res50_256x192.pth --video ../prueba.mp4 --outdir examples/res --save_video"
   ]
  },
  {
   "cell_type": "code",
   "execution_count": 4,
   "metadata": {},
   "outputs": [
    {
     "name": "stdout",
     "output_type": "stream",
     "text": [
      "Loading YOLO model..\n",
      "Loading pose model from pretrained_models/coco_wholebody133_fast50_regression_256x192.pth...\n",
      "===========================> Finish Model Running.\n",
      "===========================> Rendering remaining 0 images in the queue...\n"
     ]
    },
    {
     "name": "stderr",
     "output_type": "stream",
     "text": [
      "c:\\users\\ignac\\local\\tesis\\alphapose\\alphapose\\trackers\\utils\\kalman_filter.py:4: UserWarning: A NumPy version >=1.23.5 and <2.3.0 is required for this version of SciPy (detected version 1.23.0)\n",
      "  import scipy.linalg\n",
      "2024-06-20 21:46:26 [DEBUG]: Loaded backend agg version v2.2.\n",
      "c:\\Users\\ignac\\anaconda3\\envs\\pytorch\\Lib\\site-packages\\torchvision\\models\\_utils.py:208: UserWarning: The parameter 'pretrained' is deprecated since 0.13 and may be removed in the future, please use 'weights' instead.\n",
      "  warnings.warn(\n",
      "c:\\Users\\ignac\\anaconda3\\envs\\pytorch\\Lib\\site-packages\\torchvision\\models\\_utils.py:223: UserWarning: Arguments other than a weight enum or `None` for 'weights' are deprecated since 0.13 and may be removed in the future. The current behavior is equivalent to passing `weights=ResNet50_Weights.IMAGENET1K_V1`. You can also use `weights=ResNet50_Weights.DEFAULT` to get the most up-to-date weights.\n",
      "  warnings.warn(msg)\n",
      "\n",
      "  0%|          | 0/50 [00:00<?, ?it/s]\n",
      "  2%|▏         | 1/50 [00:02<02:04,  2.54s/it]\n",
      " 12%|█▏        | 6/50 [00:02<00:17,  2.58it/s]\n",
      " 16%|█▌        | 8/50 [00:03<00:12,  3.35it/s]\n",
      " 18%|█▊        | 9/50 [00:03<00:14,  2.91it/s]\n",
      " 20%|██        | 10/50 [00:03<00:12,  3.26it/s]\n",
      " 22%|██▏       | 11/50 [00:08<00:53,  1.36s/it]\n",
      " 24%|██▍       | 12/50 [00:08<00:41,  1.09s/it]\n",
      " 26%|██▌       | 13/50 [00:13<01:13,  1.98s/it]\n",
      " 28%|██▊       | 14/50 [00:14<00:58,  1.63s/it]\n",
      " 30%|███       | 15/50 [00:15<00:54,  1.55s/it]\n",
      " 36%|███▌      | 18/50 [00:15<00:23,  1.36it/s]\n",
      " 40%|████      | 20/50 [00:20<00:37,  1.26s/it]\n",
      " 46%|████▌     | 23/50 [00:21<00:23,  1.16it/s]\n",
      " 50%|█████     | 25/50 [00:25<00:30,  1.20s/it]\n",
      " 56%|█████▌    | 28/50 [00:30<00:30,  1.41s/it]\n",
      " 62%|██████▏   | 31/50 [00:30<00:17,  1.08it/s]\n",
      " 68%|██████▊   | 34/50 [00:33<00:14,  1.12it/s]\n",
      " 74%|███████▍  | 37/50 [00:34<00:10,  1.29it/s]\n",
      " 84%|████████▍ | 42/50 [00:35<00:03,  2.02it/s]\n",
      " 86%|████████▌ | 43/50 [00:35<00:03,  2.14it/s]\n",
      " 96%|█████████▌| 48/50 [00:36<00:00,  2.92it/s]\n",
      " 98%|█████████▊| 49/50 [00:37<00:00,  2.36it/s]\n",
      "100%|██████████| 50/50 [00:37<00:00,  1.33it/s]\n",
      "Exception in thread Thread-4 (update):\n",
      "Traceback (most recent call last):\n",
      "  File \"c:\\Users\\ignac\\anaconda3\\envs\\pytorch\\Lib\\threading.py\", line 1038, in _bootstrap_inner\n",
      "    self.run()\n",
      "  File \"c:\\Users\\ignac\\anaconda3\\envs\\pytorch\\Lib\\threading.py\", line 975, in run\n",
      "    self._target(*self._args, **self._kwargs)\n",
      "  File \"c:\\users\\ignac\\local\\tesis\\alphapose\\alphapose\\alphapose\\utils\\writer.py\", line 103, in update\n",
      "    write_json(final_result, self.opt.outputpath, form=self.opt.format, for_eval=self.opt.eval)\n",
      "  File \"c:\\users\\ignac\\local\\tesis\\alphapose\\alphapose\\alphapose\\utils\\pPose_nms.py\", line 745, in write_json\n",
      "    with open(os.path.join(outputpath,'sep-json',name.split('.')[0]+'.json'),'w') as json_file:\n",
      "                                                 ^^^^^^^^^^\n",
      "AttributeError: 'int' object has no attribute 'split'\n"
     ]
    }
   ],
   "source": [
    "!python scripts/demo_inference.py --cfg configs/coco_wholebody/resnet/256x192_res50_lr1e-3_2x-regression.yaml --checkpoint pretrained_models/coco_wholebody133_fast50_regression_256x192.pth --indir ../../dataset/val2017/ --outdir examples/res_wholebody_val2017 --eval --vis_fast --save_img"
   ]
  },
  {
   "cell_type": "code",
   "execution_count": null,
   "metadata": {},
   "outputs": [],
   "source": [
    "!python scripts/demo_inference.py --cfg configs/coco_wholebody/resnet/256x192_res50_lr1e-3_2x-regression.yaml --checkpoint pretrained_models/coco_wholebody133_fast50_regression_256x192.pth --video ../prueba_small.mp4 --outdir examples/res_posetrack_open_vis --vis_fast --pose_track --save_video"
   ]
  },
  {
   "cell_type": "code",
   "execution_count": 18,
   "metadata": {},
   "outputs": [
    {
     "name": "stderr",
     "output_type": "stream",
     "text": [
      "'.' is not recognized as an internal or external command,\n",
      "operable program or batch file.\n"
     ]
    }
   ],
   "source": [
    "./scripts/validate.sh configs/coco_wholebody/resnet/256x192_res50_lr1e-3_2x-regression.yaml pretrained_models/coco_wholebody133_fast50_regression_256x192.pth"
   ]
  },
  {
   "cell_type": "code",
   "execution_count": 5,
   "metadata": {},
   "outputs": [
    {
     "name": "stdout",
     "output_type": "stream",
     "text": [
      "Loading model from pretrained_models/coco_wholebody133_fast50_regression_256x192.pth...\n",
      "loading annotations into memory...\n",
      "Done (t=1.48s)\n",
      "creating index...\n",
      "index created!\n"
     ]
    },
    {
     "name": "stderr",
     "output_type": "stream",
     "text": [
      "c:\\Users\\ignac\\anaconda3\\envs\\pytorch\\Lib\\site-packages\\torchvision\\models\\_utils.py:208: UserWarning: The parameter 'pretrained' is deprecated since 0.13 and may be removed in the future, please use 'weights' instead.\n",
      "  warnings.warn(\n",
      "c:\\Users\\ignac\\anaconda3\\envs\\pytorch\\Lib\\site-packages\\torchvision\\models\\_utils.py:223: UserWarning: Arguments other than a weight enum or `None` for 'weights' are deprecated since 0.13 and may be removed in the future. The current behavior is equivalent to passing `weights=ResNet50_Weights.IMAGENET1K_V1`. You can also use `weights=ResNet50_Weights.DEFAULT` to get the most up-to-date weights.\n",
      "  warnings.warn(msg)\n",
      "\n",
      "  0%|          | 0/199 [00:00<?, ?it/s]\n",
      "  1%|          | 1/199 [00:56<3:05:45, 56.29s/it]\n",
      "  1%|          | 2/199 [00:56<1:16:57, 23.44s/it]\n",
      "  2%|▏         | 3/199 [00:57<42:19, 12.96s/it]  \n",
      "  2%|▏         | 4/199 [00:57<26:15,  8.08s/it]\n",
      "  3%|▎         | 5/199 [00:58<17:06,  5.29s/it]\n",
      "  3%|▎         | 6/199 [00:58<11:51,  3.69s/it]\n",
      "  4%|▎         | 7/199 [00:59<08:31,  2.66s/it]\n",
      "  4%|▍         | 8/199 [00:59<06:02,  1.90s/it]\n",
      "  5%|▍         | 9/199 [00:59<04:22,  1.38s/it]\n",
      "  5%|▌         | 10/199 [01:00<03:18,  1.05s/it]\n",
      "  6%|▌         | 11/199 [01:00<02:30,  1.25it/s]\n",
      "  6%|▌         | 12/199 [01:00<01:58,  1.58it/s]\n",
      "  7%|▋         | 13/199 [01:00<01:35,  1.95it/s]\n",
      "  7%|▋         | 14/199 [01:01<01:21,  2.28it/s]\n",
      "  8%|▊         | 15/199 [01:01<01:13,  2.50it/s]\n",
      "  8%|▊         | 16/199 [01:01<01:04,  2.84it/s]\n",
      "  9%|▊         | 17/199 [01:01<01:00,  3.01it/s]\n",
      "  9%|▉         | 18/199 [01:02<00:57,  3.15it/s]\n",
      " 10%|▉         | 19/199 [01:02<00:54,  3.33it/s]\n",
      " 10%|█         | 20/199 [01:02<00:50,  3.51it/s]\n",
      " 11%|█         | 21/199 [01:02<00:48,  3.65it/s]\n",
      " 11%|█         | 22/199 [01:03<00:47,  3.69it/s]\n",
      " 12%|█▏        | 23/199 [01:03<00:45,  3.84it/s]\n",
      " 12%|█▏        | 24/199 [01:03<00:48,  3.63it/s]\n",
      " 13%|█▎        | 25/199 [01:04<00:46,  3.77it/s]\n",
      " 13%|█▎        | 26/199 [01:04<00:45,  3.77it/s]\n",
      " 14%|█▎        | 27/199 [01:04<00:45,  3.78it/s]\n",
      " 14%|█▍        | 28/199 [01:04<00:44,  3.81it/s]\n",
      " 15%|█▍        | 29/199 [01:05<00:43,  3.86it/s]\n",
      " 15%|█▌        | 30/199 [01:05<00:42,  3.94it/s]\n",
      " 16%|█▌        | 31/199 [01:05<00:40,  4.12it/s]\n",
      " 16%|█▌        | 32/199 [01:05<00:40,  4.17it/s]\n",
      " 17%|█▋        | 33/199 [01:06<00:41,  4.00it/s]\n",
      " 17%|█▋        | 34/199 [01:06<00:41,  4.01it/s]\n",
      " 18%|█▊        | 35/199 [01:06<00:39,  4.13it/s]\n",
      " 18%|█▊        | 36/199 [01:06<00:43,  3.75it/s]\n",
      " 19%|█▊        | 37/199 [01:07<00:41,  3.91it/s]\n",
      " 19%|█▉        | 38/199 [01:07<00:40,  4.01it/s]\n",
      " 20%|█▉        | 39/199 [01:07<00:38,  4.15it/s]\n",
      " 20%|██        | 40/199 [01:07<00:37,  4.20it/s]\n",
      " 21%|██        | 41/199 [01:07<00:36,  4.27it/s]\n",
      " 21%|██        | 42/199 [01:08<00:46,  3.38it/s]\n",
      " 22%|██▏       | 43/199 [01:08<00:42,  3.63it/s]\n",
      " 22%|██▏       | 44/199 [01:08<00:40,  3.85it/s]\n",
      " 23%|██▎       | 45/199 [01:09<00:38,  3.95it/s]\n",
      " 23%|██▎       | 46/199 [01:09<00:39,  3.88it/s]\n",
      " 24%|██▎       | 47/199 [01:09<00:39,  3.81it/s]\n",
      " 24%|██▍       | 48/199 [01:09<00:41,  3.65it/s]\n",
      " 25%|██▍       | 49/199 [01:10<00:38,  3.85it/s]\n",
      " 25%|██▌       | 50/199 [01:10<00:38,  3.86it/s]\n",
      " 26%|██▌       | 51/199 [01:10<00:36,  4.04it/s]\n",
      " 26%|██▌       | 52/199 [01:10<00:34,  4.20it/s]\n",
      " 27%|██▋       | 53/199 [01:11<00:34,  4.29it/s]\n",
      " 27%|██▋       | 54/199 [01:11<00:33,  4.27it/s]\n",
      " 28%|██▊       | 55/199 [01:11<00:33,  4.31it/s]\n",
      " 28%|██▊       | 56/199 [01:11<00:32,  4.43it/s]\n",
      " 29%|██▊       | 57/199 [01:11<00:31,  4.44it/s]\n",
      " 29%|██▉       | 58/199 [01:12<00:31,  4.47it/s]\n",
      " 30%|██▉       | 59/199 [01:12<00:33,  4.23it/s]\n",
      " 30%|███       | 60/199 [01:12<00:32,  4.28it/s]\n",
      " 31%|███       | 61/199 [01:12<00:31,  4.34it/s]\n",
      " 31%|███       | 62/199 [01:13<00:31,  4.32it/s]\n",
      " 32%|███▏      | 63/199 [01:13<00:31,  4.33it/s]\n",
      " 32%|███▏      | 64/199 [01:13<00:30,  4.38it/s]\n",
      " 33%|███▎      | 65/199 [01:13<00:30,  4.35it/s]\n",
      " 33%|███▎      | 66/199 [01:14<00:30,  4.43it/s]\n",
      " 34%|███▎      | 67/199 [01:14<00:29,  4.44it/s]\n",
      " 34%|███▍      | 68/199 [01:14<00:30,  4.29it/s]\n",
      " 35%|███▍      | 69/199 [01:14<00:31,  4.10it/s]\n",
      " 35%|███▌      | 70/199 [01:15<00:37,  3.43it/s]\n",
      " 36%|███▌      | 71/199 [01:15<00:39,  3.25it/s]\n",
      " 36%|███▌      | 72/199 [01:16<00:46,  2.73it/s]\n",
      " 37%|███▋      | 73/199 [01:16<00:43,  2.86it/s]\n",
      " 37%|███▋      | 74/199 [01:16<00:40,  3.11it/s]\n",
      " 38%|███▊      | 75/199 [01:16<00:40,  3.03it/s]\n",
      " 38%|███▊      | 76/199 [01:17<00:38,  3.20it/s]\n",
      " 39%|███▊      | 77/199 [01:17<00:37,  3.24it/s]\n",
      " 39%|███▉      | 78/199 [01:17<00:38,  3.15it/s]\n",
      " 40%|███▉      | 79/199 [01:18<00:37,  3.18it/s]\n",
      " 40%|████      | 80/199 [01:18<00:38,  3.10it/s]\n",
      " 41%|████      | 81/199 [01:18<00:38,  3.09it/s]\n",
      " 41%|████      | 82/199 [01:19<00:41,  2.84it/s]\n",
      " 42%|████▏     | 83/199 [01:19<00:38,  2.99it/s]\n",
      " 42%|████▏     | 84/199 [01:19<00:37,  3.05it/s]\n",
      " 43%|████▎     | 85/199 [01:20<00:37,  3.05it/s]\n",
      " 43%|████▎     | 86/199 [01:20<00:35,  3.18it/s]\n",
      " 44%|████▎     | 87/199 [01:20<00:33,  3.38it/s]\n",
      " 44%|████▍     | 88/199 [01:20<00:31,  3.47it/s]\n",
      " 45%|████▍     | 89/199 [01:21<00:31,  3.52it/s]\n",
      " 45%|████▌     | 90/199 [01:21<00:32,  3.40it/s]\n",
      " 46%|████▌     | 91/199 [01:21<00:30,  3.55it/s]\n",
      " 46%|████▌     | 92/199 [01:22<00:29,  3.68it/s]\n",
      " 47%|████▋     | 93/199 [01:22<00:28,  3.75it/s]\n",
      " 47%|████▋     | 94/199 [01:22<00:27,  3.82it/s]\n",
      " 48%|████▊     | 95/199 [01:22<00:27,  3.71it/s]\n",
      " 48%|████▊     | 96/199 [01:23<00:32,  3.18it/s]\n",
      " 49%|████▊     | 97/199 [01:23<00:31,  3.23it/s]\n",
      " 49%|████▉     | 98/199 [01:23<00:32,  3.09it/s]\n",
      " 50%|████▉     | 99/199 [01:24<00:31,  3.14it/s]\n",
      " 50%|█████     | 100/199 [01:24<00:30,  3.26it/s]\n",
      " 51%|█████     | 101/199 [01:24<00:29,  3.31it/s]\n",
      " 51%|█████▏    | 102/199 [01:25<00:30,  3.19it/s]\n",
      " 52%|█████▏    | 103/199 [01:25<00:30,  3.14it/s]\n",
      " 52%|█████▏    | 104/199 [01:25<00:29,  3.21it/s]\n",
      " 53%|█████▎    | 105/199 [01:26<00:28,  3.27it/s]\n",
      " 53%|█████▎    | 106/199 [01:26<00:30,  3.06it/s]\n",
      " 54%|█████▍    | 107/199 [01:26<00:32,  2.84it/s]\n",
      " 54%|█████▍    | 108/199 [01:27<00:30,  3.03it/s]\n",
      " 55%|█████▍    | 109/199 [01:27<00:28,  3.15it/s]\n",
      " 55%|█████▌    | 110/199 [01:27<00:27,  3.26it/s]\n",
      " 56%|█████▌    | 111/199 [01:28<00:28,  3.10it/s]\n",
      " 56%|█████▋    | 112/199 [01:28<00:28,  3.09it/s]\n",
      " 57%|█████▋    | 113/199 [01:28<00:25,  3.33it/s]\n",
      " 57%|█████▋    | 114/199 [01:29<00:29,  2.92it/s]\n",
      " 58%|█████▊    | 115/199 [01:29<00:27,  3.11it/s]\n",
      " 58%|█████▊    | 116/199 [01:29<00:25,  3.30it/s]\n",
      " 59%|█████▉    | 117/199 [01:30<00:26,  3.08it/s]\n",
      " 59%|█████▉    | 118/199 [01:30<00:27,  2.96it/s]\n",
      " 60%|█████▉    | 119/199 [01:30<00:25,  3.08it/s]\n",
      " 60%|██████    | 120/199 [01:30<00:25,  3.14it/s]\n",
      " 61%|██████    | 121/199 [01:31<00:24,  3.23it/s]\n",
      " 61%|██████▏   | 122/199 [01:31<00:22,  3.39it/s]\n",
      " 62%|██████▏   | 123/199 [01:31<00:20,  3.63it/s]\n",
      " 62%|██████▏   | 124/199 [01:31<00:19,  3.85it/s]\n",
      " 63%|██████▎   | 125/199 [01:32<00:18,  4.00it/s]\n",
      " 63%|██████▎   | 126/199 [01:32<00:19,  3.80it/s]\n",
      " 64%|██████▍   | 127/199 [01:32<00:19,  3.70it/s]\n",
      " 64%|██████▍   | 128/199 [01:33<00:19,  3.70it/s]\n",
      " 65%|██████▍   | 129/199 [01:33<00:18,  3.69it/s]\n",
      " 65%|██████▌   | 130/199 [01:33<00:18,  3.69it/s]\n",
      " 66%|██████▌   | 131/199 [01:33<00:19,  3.48it/s]\n",
      " 66%|██████▋   | 132/199 [01:34<00:19,  3.37it/s]\n",
      " 67%|██████▋   | 133/199 [01:34<00:18,  3.48it/s]\n",
      " 67%|██████▋   | 134/199 [01:34<00:18,  3.44it/s]\n",
      " 68%|██████▊   | 135/199 [01:35<00:17,  3.56it/s]\n",
      " 68%|██████▊   | 136/199 [01:35<00:17,  3.64it/s]\n",
      " 69%|██████▉   | 137/199 [01:35<00:16,  3.82it/s]\n",
      " 69%|██████▉   | 138/199 [01:35<00:17,  3.50it/s]\n",
      " 70%|██████▉   | 139/199 [01:36<00:17,  3.51it/s]\n",
      " 70%|███████   | 140/199 [01:36<00:16,  3.68it/s]\n",
      " 71%|███████   | 141/199 [01:36<00:16,  3.48it/s]\n",
      " 71%|███████▏  | 142/199 [01:37<00:19,  2.91it/s]\n",
      " 72%|███████▏  | 143/199 [01:37<00:18,  2.97it/s]\n",
      " 72%|███████▏  | 144/199 [01:37<00:17,  3.07it/s]\n",
      " 73%|███████▎  | 145/199 [01:38<00:17,  3.16it/s]\n",
      " 73%|███████▎  | 146/199 [01:38<00:16,  3.27it/s]\n",
      " 74%|███████▍  | 147/199 [01:38<00:15,  3.43it/s]\n",
      " 74%|███████▍  | 148/199 [01:38<00:14,  3.59it/s]\n",
      " 75%|███████▍  | 149/199 [01:39<00:13,  3.72it/s]\n",
      " 75%|███████▌  | 150/199 [01:39<00:13,  3.53it/s]\n",
      " 76%|███████▌  | 151/199 [01:39<00:13,  3.55it/s]\n",
      " 76%|███████▋  | 152/199 [01:40<00:13,  3.38it/s]\n",
      " 77%|███████▋  | 153/199 [01:40<00:13,  3.29it/s]\n",
      " 77%|███████▋  | 154/199 [01:40<00:12,  3.47it/s]\n",
      " 78%|███████▊  | 155/199 [01:40<00:12,  3.61it/s]\n",
      " 78%|███████▊  | 156/199 [01:41<00:11,  3.70it/s]\n",
      " 79%|███████▉  | 157/199 [01:41<00:11,  3.71it/s]\n",
      " 79%|███████▉  | 158/199 [01:41<00:12,  3.25it/s]\n",
      " 80%|███████▉  | 159/199 [01:42<00:12,  3.32it/s]\n",
      " 80%|████████  | 160/199 [01:42<00:11,  3.52it/s]\n",
      " 81%|████████  | 161/199 [01:42<00:10,  3.69it/s]\n",
      " 81%|████████▏ | 162/199 [01:42<00:09,  3.87it/s]\n",
      " 82%|████████▏ | 163/199 [01:43<00:09,  3.98it/s]\n",
      " 82%|████████▏ | 164/199 [01:43<00:08,  4.03it/s]\n",
      " 83%|████████▎ | 165/199 [01:43<00:08,  4.15it/s]\n",
      " 83%|████████▎ | 166/199 [01:43<00:07,  4.18it/s]\n",
      " 84%|████████▍ | 167/199 [01:44<00:07,  4.17it/s]\n",
      " 84%|████████▍ | 168/199 [01:44<00:07,  4.24it/s]\n",
      " 85%|████████▍ | 169/199 [01:44<00:06,  4.37it/s]\n",
      " 85%|████████▌ | 170/199 [01:44<00:06,  4.45it/s]\n",
      " 86%|████████▌ | 171/199 [01:44<00:06,  4.47it/s]\n",
      " 86%|████████▋ | 172/199 [01:45<00:06,  4.50it/s]\n",
      " 87%|████████▋ | 173/199 [01:45<00:05,  4.52it/s]\n",
      " 87%|████████▋ | 174/199 [01:45<00:05,  4.54it/s]\n",
      " 88%|████████▊ | 175/199 [01:45<00:05,  4.57it/s]\n",
      " 88%|████████▊ | 176/199 [01:45<00:05,  4.47it/s]\n",
      " 89%|████████▉ | 177/199 [01:46<00:05,  4.23it/s]\n",
      " 89%|████████▉ | 178/199 [01:46<00:04,  4.30it/s]\n",
      " 90%|████████▉ | 179/199 [01:46<00:04,  4.37it/s]\n",
      " 90%|█████████ | 180/199 [01:46<00:04,  4.36it/s]\n",
      " 91%|█████████ | 181/199 [01:47<00:04,  4.26it/s]\n",
      " 91%|█████████▏| 182/199 [01:47<00:03,  4.31it/s]\n",
      " 92%|█████████▏| 183/199 [01:47<00:03,  4.37it/s]\n",
      " 92%|█████████▏| 184/199 [01:47<00:03,  4.44it/s]\n",
      " 93%|█████████▎| 185/199 [01:48<00:03,  4.45it/s]\n",
      " 93%|█████████▎| 186/199 [01:48<00:02,  4.43it/s]\n",
      " 94%|█████████▍| 187/199 [01:48<00:02,  4.48it/s]\n",
      " 94%|█████████▍| 188/199 [01:48<00:02,  4.35it/s]\n",
      " 95%|█████████▍| 189/199 [01:48<00:02,  4.38it/s]\n",
      " 95%|█████████▌| 190/199 [01:49<00:02,  4.41it/s]\n",
      " 96%|█████████▌| 191/199 [01:49<00:01,  4.48it/s]\n",
      " 96%|█████████▋| 192/199 [01:49<00:01,  4.51it/s]\n",
      " 97%|█████████▋| 193/199 [01:49<00:01,  4.53it/s]\n",
      " 97%|█████████▋| 194/199 [01:50<00:01,  4.47it/s]\n",
      " 98%|█████████▊| 195/199 [01:50<00:00,  4.46it/s]\n",
      " 98%|█████████▊| 196/199 [01:50<00:00,  4.32it/s]\n",
      " 99%|█████████▉| 197/199 [01:50<00:00,  4.31it/s]\n",
      " 99%|█████████▉| 198/199 [01:51<00:00,  4.32it/s]\n",
      "100%|██████████| 199/199 [01:51<00:00,  4.39it/s]\n",
      "100%|██████████| 199/199 [01:53<00:00,  1.76it/s]\n",
      "Traceback (most recent call last):\n",
      "  File \"c:\\Users\\ignac\\Local\\Tesis\\AlphaPose\\AlphaPose\\scripts\\validate.py\", line 264, in <module>\n",
      "    gt_AP = validate_gt(m, cfg, heatmap_to_coord, opt.batch, opt.num_workers)\n",
      "            ^^^^^^^^^^^^^^^^^^^^^^^^^^^^^^^^^^^^^^^^^^^^^^^^^^^^^^^^^^^^^^^^^\n",
      "  File \"c:\\Users\\ignac\\Local\\Tesis\\AlphaPose\\AlphaPose\\scripts\\validate.py\", line 249, in validate_gt\n",
      "    res = evaluate_mAP('./exp/json/validate_gt_kpt.json', ann_type='keypoints', ann_file=os.path.join(cfg.DATASET.VAL.ROOT, cfg.DATASET.VAL.ANN), halpe=halpe)\n",
      "          ^^^^^^^^^^^^^^^^^^^^^^^^^^^^^^^^^^^^^^^^^^^^^^^^^^^^^^^^^^^^^^^^^^^^^^^^^^^^^^^^^^^^^^^^^^^^^^^^^^^^^^^^^^^^^^^^^^^^^^^^^^^^^^^^^^^^^^^^^^^^^^^^^^^^\n",
      "  File \"c:\\users\\ignac\\local\\tesis\\alphapose\\alphapose\\alphapose\\utils\\metrics.py\", line 102, in evaluate_mAP\n",
      "    cocoEval.evaluate()\n",
      "  File \"c:\\Users\\ignac\\anaconda3\\envs\\pytorch\\Lib\\site-packages\\pycocotools\\cocoeval.py\", line 148, in evaluate\n",
      "    self.ious = {(imgId, catId): computeIoU(imgId, catId) \\\n",
      "                ^^^^^^^^^^^^^^^^^^^^^^^^^^^^^^^^^^^^^^^^^^^\n",
      "  File \"c:\\Users\\ignac\\anaconda3\\envs\\pytorch\\Lib\\site-packages\\pycocotools\\cocoeval.py\", line 148, in <dictcomp>\n",
      "    self.ious = {(imgId, catId): computeIoU(imgId, catId) \\\n",
      "                                 ^^^^^^^^^^^^^^^^^^^^^^^^\n",
      "  File \"c:\\Users\\ignac\\anaconda3\\envs\\pytorch\\Lib\\site-packages\\pycocotools\\cocoeval.py\", line 222, in computeOks\n",
      "    dx = xd - xg\n",
      "         ~~~^~~~\n",
      "ValueError: operands could not be broadcast together with shapes (133,) (17,) \n",
      "Exception ignored in: <alphapose.utils.metrics.evaluate_mAP.<locals>.NullWriter object at 0x0000015BC0487E50>\n",
      "AttributeError: 'NullWriter' object has no attribute 'flush'\n"
     ]
    }
   ],
   "source": [
    "!python scripts/validate.py --cfg configs/coco_wholebody/resnet/256x192_res50_lr1e-3_2x-regression.yaml --checkpoint pretrained_models/coco_wholebody133_fast50_regression_256x192.pth"
   ]
  }
 ],
 "metadata": {
  "kernelspec": {
   "display_name": "alphapose",
   "language": "python",
   "name": "python3"
  },
  "language_info": {
   "codemirror_mode": {
    "name": "ipython",
    "version": 3
   },
   "file_extension": ".py",
   "mimetype": "text/x-python",
   "name": "python",
   "nbconvert_exporter": "python",
   "pygments_lexer": "ipython3",
   "version": "3.11.5"
  }
 },
 "nbformat": 4,
 "nbformat_minor": 2
}
