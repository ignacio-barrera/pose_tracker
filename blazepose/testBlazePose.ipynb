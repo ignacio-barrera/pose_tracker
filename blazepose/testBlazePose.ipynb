{
 "cells": [
  {
   "cell_type": "code",
   "execution_count": 1,
   "metadata": {},
   "outputs": [
    {
     "name": "stdout",
     "output_type": "stream",
     "text": [
      "Requirement already satisfied: mediapipe in c:\\users\\franf\\appdata\\local\\programs\\python\\python311\\lib\\site-packages (0.10.14)\n",
      "Requirement already satisfied: absl-py in c:\\users\\franf\\appdata\\local\\programs\\python\\python311\\lib\\site-packages (from mediapipe) (2.0.0)\n",
      "Requirement already satisfied: attrs>=19.1.0 in c:\\users\\franf\\appdata\\local\\programs\\python\\python311\\lib\\site-packages (from mediapipe) (23.2.0)\n",
      "Requirement already satisfied: flatbuffers>=2.0 in c:\\users\\franf\\appdata\\local\\programs\\python\\python311\\lib\\site-packages (from mediapipe) (23.5.26)\n",
      "Requirement already satisfied: jax in c:\\users\\franf\\appdata\\local\\programs\\python\\python311\\lib\\site-packages (from mediapipe) (0.4.28)\n",
      "Requirement already satisfied: jaxlib in c:\\users\\franf\\appdata\\local\\programs\\python\\python311\\lib\\site-packages (from mediapipe) (0.4.28)\n",
      "Requirement already satisfied: matplotlib in c:\\users\\franf\\appdata\\local\\programs\\python\\python311\\lib\\site-packages (from mediapipe) (3.7.1)\n",
      "Requirement already satisfied: numpy in c:\\users\\franf\\appdata\\local\\programs\\python\\python311\\lib\\site-packages (from mediapipe) (1.24.3)\n",
      "Requirement already satisfied: opencv-contrib-python in c:\\users\\franf\\appdata\\local\\programs\\python\\python311\\lib\\site-packages (from mediapipe) (4.10.0.82)\n",
      "Requirement already satisfied: protobuf<5,>=4.25.3 in c:\\users\\franf\\appdata\\local\\programs\\python\\python311\\lib\\site-packages (from mediapipe) (4.25.3)\n",
      "Requirement already satisfied: sounddevice>=0.4.4 in c:\\users\\franf\\appdata\\local\\programs\\python\\python311\\lib\\site-packages (from mediapipe) (0.4.7)\n",
      "Requirement already satisfied: CFFI>=1.0 in c:\\users\\franf\\appdata\\local\\programs\\python\\python311\\lib\\site-packages (from sounddevice>=0.4.4->mediapipe) (1.16.0)\n",
      "Requirement already satisfied: ml-dtypes>=0.2.0 in c:\\users\\franf\\appdata\\local\\programs\\python\\python311\\lib\\site-packages (from jax->mediapipe) (0.2.0)\n",
      "Requirement already satisfied: opt-einsum in c:\\users\\franf\\appdata\\local\\programs\\python\\python311\\lib\\site-packages (from jax->mediapipe) (3.3.0)\n",
      "Requirement already satisfied: scipy>=1.9 in c:\\users\\franf\\appdata\\local\\programs\\python\\python311\\lib\\site-packages (from jax->mediapipe) (1.11.2)\n",
      "Requirement already satisfied: contourpy>=1.0.1 in c:\\users\\franf\\appdata\\local\\programs\\python\\python311\\lib\\site-packages (from matplotlib->mediapipe) (1.0.7)\n",
      "Requirement already satisfied: cycler>=0.10 in c:\\users\\franf\\appdata\\local\\programs\\python\\python311\\lib\\site-packages (from matplotlib->mediapipe) (0.11.0)\n",
      "Requirement already satisfied: fonttools>=4.22.0 in c:\\users\\franf\\appdata\\local\\programs\\python\\python311\\lib\\site-packages (from matplotlib->mediapipe) (4.39.3)\n",
      "Requirement already satisfied: kiwisolver>=1.0.1 in c:\\users\\franf\\appdata\\local\\programs\\python\\python311\\lib\\site-packages (from matplotlib->mediapipe) (1.4.4)\n",
      "Requirement already satisfied: packaging>=20.0 in c:\\users\\franf\\appdata\\roaming\\python\\python311\\site-packages (from matplotlib->mediapipe) (23.1)\n",
      "Requirement already satisfied: pillow>=6.2.0 in c:\\users\\franf\\appdata\\local\\programs\\python\\python311\\lib\\site-packages (from matplotlib->mediapipe) (10.3.0)\n",
      "Requirement already satisfied: pyparsing>=2.3.1 in c:\\users\\franf\\appdata\\local\\programs\\python\\python311\\lib\\site-packages (from matplotlib->mediapipe) (3.0.9)\n",
      "Requirement already satisfied: python-dateutil>=2.7 in c:\\users\\franf\\appdata\\roaming\\python\\python311\\site-packages (from matplotlib->mediapipe) (2.8.2)\n",
      "Requirement already satisfied: pycparser in c:\\users\\franf\\appdata\\local\\programs\\python\\python311\\lib\\site-packages (from CFFI>=1.0->sounddevice>=0.4.4->mediapipe) (2.22)\n",
      "Requirement already satisfied: six>=1.5 in c:\\users\\franf\\appdata\\roaming\\python\\python311\\site-packages (from python-dateutil>=2.7->matplotlib->mediapipe) (1.16.0)\n"
     ]
    },
    {
     "name": "stderr",
     "output_type": "stream",
     "text": [
      "DEPRECATION: Loading egg at c:\\users\\franf\\appdata\\local\\programs\\python\\python311\\lib\\site-packages\\vboxapi-1.0-py3.11.egg is deprecated. pip 24.3 will enforce this behaviour change. A possible replacement is to use pip for package installation.. Discussion can be found at https://github.com/pypa/pip/issues/12330\n"
     ]
    },
    {
     "name": "stdout",
     "output_type": "stream",
     "text": [
      "Requirement already satisfied: opencv-python in c:\\users\\franf\\appdata\\local\\programs\\python\\python311\\lib\\site-packages (4.10.0.82)\n",
      "Requirement already satisfied: numpy>=1.21.2 in c:\\users\\franf\\appdata\\local\\programs\\python\\python311\\lib\\site-packages (from opencv-python) (1.24.3)\n"
     ]
    },
    {
     "name": "stderr",
     "output_type": "stream",
     "text": [
      "DEPRECATION: Loading egg at c:\\users\\franf\\appdata\\local\\programs\\python\\python311\\lib\\site-packages\\vboxapi-1.0-py3.11.egg is deprecated. pip 24.3 will enforce this behaviour change. A possible replacement is to use pip for package installation.. Discussion can be found at https://github.com/pypa/pip/issues/12330\n"
     ]
    }
   ],
   "source": [
    "!pip install mediapipe\n",
    "!pip install opencv-python\n"
   ]
  },
  {
   "cell_type": "code",
   "execution_count": 9,
   "metadata": {},
   "outputs": [
    {
     "name": "stderr",
     "output_type": "stream",
     "text": [
      "c:\\Users\\franf\\AppData\\Local\\Programs\\Python\\Python311\\Lib\\site-packages\\google\\protobuf\\symbol_database.py:55: UserWarning: SymbolDatabase.GetPrototype() is deprecated. Please use message_factory.GetMessageClass() instead. SymbolDatabase.GetPrototype() will be removed soon.\n",
      "  warnings.warn('SymbolDatabase.GetPrototype() is deprecated. Please '\n"
     ]
    }
   ],
   "source": [
    "import cv2\n",
    "import mediapipe as mp\n",
    "import json\n",
    "\n",
    "# Inicializar BlazePose\n",
    "mp_pose = mp.solutions.pose\n",
    "pose = mp_pose.Pose(static_image_mode=True, min_detection_confidence=0.5)\n",
    "mp_drawing = mp.solutions.drawing_utils\n",
    "\n",
    "# Cargar la imagen\n",
    "image = cv2.imread('../yolo/videoframe_0.jpg')\n",
    "image_rgb = cv2.cvtColor(image, cv2.COLOR_BGR2RGB)\n",
    "\n",
    "# Realizar la detección de pose\n",
    "results = pose.process(image_rgb)\n",
    "\n",
    "blazepose_results = []\n",
    "\n",
    "# Dibujar las anotaciones de la pose en la imagen\n",
    "if results.pose_landmarks:\n",
    "    mp_drawing.draw_landmarks(image, results.pose_landmarks, mp_pose.POSE_CONNECTIONS)\n",
    "\n",
    "    #guardar en annotations\n",
    "    keypoints = []\n",
    "    for landmark in results.pose_landmarks.landmark:\n",
    "        keypoints.extend([landmark.x * image.shape[1], landmark.y * image.shape[0], landmark.visibility])\n",
    "    \n",
    "    ann = {\n",
    "        \"image_id\": \"videoframe\",\n",
    "        \"category_id\": 1,  # Persona\n",
    "        \"keypoints\": keypoints,\n",
    "        \"score\": 1.0  # Puedes ajustar el score según sea necesario\n",
    "    }\n",
    "    blazepose_results.append(ann)\n",
    "\n",
    "#guardar la img\n",
    "cv2.imwrite('testBlazePose.jpg', image)\n",
    "# Mostrar la imagen con las poses detectadas\n",
    "cv2.imshow('BlazePose Result', image)\n",
    "cv2.waitKey(0)\n",
    "cv2.destroyAllWindows()\n",
    "\n",
    "# Liberar recursos\n",
    "pose.close()\n",
    "\n",
    "# Guardar las anotaciones en un archivo JSON\n",
    "with open('blazepose_results.json', 'w') as f:\n",
    "    json.dump(blazepose_results, f)\n"
   ]
  },
  {
   "cell_type": "code",
   "execution_count": 11,
   "metadata": {},
   "outputs": [
    {
     "name": "stderr",
     "output_type": "stream",
     "text": [
      "c:\\Users\\franf\\AppData\\Local\\Programs\\Python\\Python311\\Lib\\site-packages\\google\\protobuf\\symbol_database.py:55: UserWarning: SymbolDatabase.GetPrototype() is deprecated. Please use message_factory.GetMessageClass() instead. SymbolDatabase.GetPrototype() will be removed soon.\n",
      "  warnings.warn('SymbolDatabase.GetPrototype() is deprecated. Please '\n"
     ]
    },
    {
     "data": {
      "text/plain": [
       "True"
      ]
     },
     "execution_count": 11,
     "metadata": {},
     "output_type": "execute_result"
    }
   ],
   "source": [
    "#usando el dataset de wholeBody\n",
    "import os\n",
    "\n",
    "# Inicializar BlazePose\n",
    "mp_pose = mp.solutions.pose\n",
    "pose = mp_pose.Pose(static_image_mode=True, min_detection_confidence=0.5)\n",
    "mp_drawing = mp.solutions.drawing_utils\n",
    "\n",
    "# Directorio de imágenes y archivo de anotaciones\n",
    "image_dir = '../../val2017/val2017'  # Ajusta según la estructura de tu directorio\n",
    "#annotation_file = '../../coco_wholebody_val_v1.0.json'\n",
    "annotation_file = '../../person_keypoints_val2017.json'\n",
    "blazepose_results = []\n",
    "\n",
    "# Cargar el dataset COCO\n",
    "with open(annotation_file, 'r') as f:\n",
    "    coco_data = json.load(f)\n",
    "\n",
    "# Procesar las imágenes\n",
    "for img_info in coco_data['images']:\n",
    "    image_path = os.path.join(image_dir, img_info['file_name'])\n",
    "    image = cv2.imread(image_path)\n",
    "    if image is None:\n",
    "        continue\n",
    "\n",
    "    image_rgb = cv2.cvtColor(image, cv2.COLOR_BGR2RGB)\n",
    "    results = pose.process(image_rgb)\n",
    "\n",
    "    if results.pose_landmarks:\n",
    "        keypoints = []\n",
    "        for landmark in results.pose_landmarks.landmark:\n",
    "            keypoints.extend([landmark.x * image.shape[1], landmark.y * image.shape[0], landmark.visibility])\n",
    "        \n",
    "        ann = {\n",
    "            \"image_id\": img_info['id'],\n",
    "            \"category_id\": 1,  # Persona\n",
    "            \"keypoints\": keypoints,\n",
    "            \"score\": 1.0  # Puedes ajustar el score según sea necesario\n",
    "        }\n",
    "        blazepose_results.append(ann)\n",
    "\n",
    "pose.close()\n",
    "\n",
    "# Guardar las anotaciones en un archivo JSON\n",
    "with open('blazepose_results-wholeBody.json', 'w') as f:\n",
    "    json.dump(blazepose_results, f)\n",
    "\n",
    "#guardar una img para ver como la analiza blazepose\n",
    "cv2.imwrite('testBlazePoseWholeBody.jpg', image) #seria la ultima imagen procesada del dataset\n"
   ]
  },
  {
   "cell_type": "code",
   "execution_count": 16,
   "metadata": {},
   "outputs": [
    {
     "name": "stdout",
     "output_type": "stream",
     "text": [
      "loading annotations into memory...\n",
      "Done (t=0.66s)\n",
      "creating index...\n",
      "index created!\n"
     ]
    },
    {
     "name": "stderr",
     "output_type": "stream",
     "text": [
      "c:\\Users\\franf\\AppData\\Local\\Programs\\Python\\Python311\\Lib\\site-packages\\google\\protobuf\\symbol_database.py:55: UserWarning: SymbolDatabase.GetPrototype() is deprecated. Please use message_factory.GetMessageClass() instead. SymbolDatabase.GetPrototype() will be removed soon.\n",
      "  warnings.warn('SymbolDatabase.GetPrototype() is deprecated. Please '\n"
     ]
    },
    {
     "name": "stdout",
     "output_type": "stream",
     "text": [
      "Loading and preparing results...\n",
      "DONE (t=0.12s)\n",
      "creating index...\n",
      "index created!\n",
      "Running per image evaluation...\n",
      "Evaluate annotation type *keypoints*\n",
      "DONE (t=0.86s).\n",
      "Accumulating evaluation results...\n",
      "DONE (t=0.06s).\n",
      " Average Precision  (AP) @[ IoU=0.50:0.95 | area=   all | maxDets= 20 ] = 0.088\n",
      " Average Precision  (AP) @[ IoU=0.50      | area=   all | maxDets= 20 ] = 0.164\n",
      " Average Precision  (AP) @[ IoU=0.75      | area=   all | maxDets= 20 ] = 0.087\n",
      " Average Precision  (AP) @[ IoU=0.50:0.95 | area=medium | maxDets= 20 ] = 0.029\n",
      " Average Precision  (AP) @[ IoU=0.50:0.95 | area= large | maxDets= 20 ] = 0.170\n",
      " Average Recall     (AR) @[ IoU=0.50:0.95 | area=   all | maxDets= 20 ] = 0.132\n",
      " Average Recall     (AR) @[ IoU=0.50      | area=   all | maxDets= 20 ] = 0.201\n",
      " Average Recall     (AR) @[ IoU=0.75      | area=   all | maxDets= 20 ] = 0.140\n",
      " Average Recall     (AR) @[ IoU=0.50:0.95 | area=medium | maxDets= 20 ] = 0.039\n",
      " Average Recall     (AR) @[ IoU=0.50:0.95 | area= large | maxDets= 20 ] = 0.258\n",
      "mAP:  0.08849632371629948\n",
      "AP@0.50:  0.16401605305236133\n",
      "AP@0.75:  0.08710477466870943\n",
      "AP (M):  0.02910787421689213\n",
      "AP (L):  0.17029027758930437\n",
      "AR:  0.03933351543294182\n",
      "Anotaciones guardadas en: blazepose_results-wholeBody.json\n",
      "Imagen procesada guardada en: testBlazePoseWholeBody.jpg\n"
     ]
    }
   ],
   "source": [
    "import cv2\n",
    "import mediapipe as mp\n",
    "import json\n",
    "import os\n",
    "from pycocotools.coco import COCO\n",
    "from pycocotools.cocoeval import COCOeval\n",
    "\n",
    "# Inicializar BlazePose\n",
    "mp_pose = mp.solutions.pose\n",
    "pose = mp_pose.Pose(static_image_mode=True, min_detection_confidence=0.5)\n",
    "mp_drawing = mp.solutions.drawing_utils\n",
    "\n",
    "# Directorio de imágenes y archivo de anotaciones\n",
    "image_dir = '../../val2017/val2017'  # Ajusta según la estructura de tu directorio\n",
    "annotation_file = '../yolo/datasets/coco-pose/annotations/person_keypoints_val2017.json'\n",
    "blazepose_results = []\n",
    "\n",
    "# Cargar el dataset COCO\n",
    "with open(annotation_file, 'r') as f:\n",
    "    coco_data = json.load(f)\n",
    "coco = COCO(annotation_file)\n",
    "\n",
    "# Función para convertir 33 keypoints de BlazePose a 17 keypoints de COCO\n",
    "def convert_blazepose_to_coco(landmarks, image_shape):\n",
    "    keypoints = [None] * 17\n",
    "    keypoints[0] = landmarks[0]  # Nose\n",
    "    keypoints[1] = landmarks[1]  # Left eye\n",
    "    keypoints[2] = landmarks[4]  # Right eye\n",
    "    keypoints[3] = landmarks[7]  # Left ear\n",
    "    keypoints[4] = landmarks[8]  # Right ear\n",
    "    keypoints[5] = landmarks[11]  # Left shoulder\n",
    "    keypoints[6] = landmarks[12]  # Right shoulder\n",
    "    keypoints[7] = landmarks[13]  # Left elbow\n",
    "    keypoints[8] = landmarks[14]  # Right elbow\n",
    "    keypoints[9] = landmarks[15]  # Left wrist\n",
    "    keypoints[10] = landmarks[16]  # Right wrist\n",
    "    keypoints[11] = landmarks[23]  # Left hip\n",
    "    keypoints[12] = landmarks[24]  # Right hip\n",
    "    keypoints[13] = landmarks[25]  # Left knee\n",
    "    keypoints[14] = landmarks[26]  # Right knee\n",
    "    keypoints[15] = landmarks[27]  # Left ankle\n",
    "    keypoints[16] = landmarks[28]  # Right ankle\n",
    "    coco_keypoints = []\n",
    "    for point in keypoints:\n",
    "        if point is not None:\n",
    "            coco_keypoints.extend([point.x * image_shape[1], point.y * image_shape[0], point.visibility])\n",
    "        else:\n",
    "            coco_keypoints.extend([0, 0, 0])  # Fill with zeros if no point detected\n",
    "    return coco_keypoints\n",
    "\n",
    "# Procesar las imágenes\n",
    "for img_info in coco_data['images']:\n",
    "    image_path = os.path.join(image_dir, img_info['file_name'])\n",
    "    image = cv2.imread(image_path)\n",
    "    if image is None:\n",
    "        continue\n",
    "\n",
    "    image_rgb = cv2.cvtColor(image, cv2.COLOR_BGR2RGB)\n",
    "    results = pose.process(image_rgb)\n",
    "\n",
    "    if results.pose_landmarks:\n",
    "        # Dibujar las anotaciones de la pose en la imagen\n",
    "        mp_drawing.draw_landmarks(image, results.pose_landmarks, mp_pose.POSE_CONNECTIONS)\n",
    "\n",
    "        keypoints = convert_blazepose_to_coco(results.pose_landmarks.landmark, image.shape)\n",
    "        \n",
    "        ann = {\n",
    "            \"image_id\": img_info['id'],\n",
    "            \"category_id\": 1,  # Persona\n",
    "            \"keypoints\": keypoints,\n",
    "            \"score\": 1.0  # Puedes ajustar el score según sea necesario\n",
    "        }\n",
    "        blazepose_results.append(ann)\n",
    "\n",
    "# Guardar las anotaciones en un archivo JSON\n",
    "with open('blazepose_results-wholeBody.json', 'w') as f:\n",
    "    json.dump(blazepose_results, f)\n",
    "\n",
    "# Guardar y mostrar una imagen procesada\n",
    "if 'image' in locals():\n",
    "    # Guardar la última imagen procesada con las anotaciones\n",
    "    cv2.imwrite('testBlazePoseWholeBody.jpg', image)\n",
    "    # Mostrar la imagen con las poses detectadas\n",
    "    cv2.imshow('BlazePose WholeBody Result', image)\n",
    "    cv2.waitKey(0)\n",
    "    cv2.destroyAllWindows()\n",
    "\n",
    "# Liberar recursos\n",
    "pose.close()\n",
    "\n",
    "# Evaluar las métricas de rendimiento usando pycocotools\n",
    "coco_dt = coco.loadRes('blazepose_results-wholeBody.json')\n",
    "coco_eval = COCOeval(coco, coco_dt, 'keypoints')\n",
    "coco_eval.evaluate()\n",
    "coco_eval.accumulate()\n",
    "coco_eval.summarize()\n",
    "\n",
    "# Imprimir métricas relevantes\n",
    "print(\"mAP: \", coco_eval.stats[0])\n",
    "print(\"AP@0.50: \", coco_eval.stats[1])\n",
    "print(\"AP@0.75: \", coco_eval.stats[2])\n",
    "print(\"AP (M): \", coco_eval.stats[3])\n",
    "print(\"AP (L): \", coco_eval.stats[4])\n",
    "print(\"AR: \", coco_eval.stats[8])\n",
    "\n",
    "print(\"Anotaciones guardadas en: blazepose_results-wholeBody.json\")\n",
    "if 'image' in locals():\n",
    "    print(\"Imagen procesada guardada en: testBlazePoseWholeBody.jpg\")\n"
   ]
  }
 ],
 "metadata": {
  "kernelspec": {
   "display_name": "Python 3",
   "language": "python",
   "name": "python3"
  },
  "language_info": {
   "codemirror_mode": {
    "name": "ipython",
    "version": 3
   },
   "file_extension": ".py",
   "mimetype": "text/x-python",
   "name": "python",
   "nbconvert_exporter": "python",
   "pygments_lexer": "ipython3",
   "version": "3.11.5"
  }
 },
 "nbformat": 4,
 "nbformat_minor": 2
}
