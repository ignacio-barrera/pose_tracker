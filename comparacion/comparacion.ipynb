{
 "cells": [
  {
   "cell_type": "code",
   "execution_count": 1,
   "metadata": {},
   "outputs": [
    {
     "name": "stdout",
     "output_type": "stream",
     "text": [
      "Requirement already satisfied: pycocotools in c:\\users\\franf\\appdata\\local\\programs\\python\\python311\\lib\\site-packages (2.0.7)\n",
      "Requirement already satisfied: matplotlib>=2.1.0 in c:\\users\\franf\\appdata\\local\\programs\\python\\python311\\lib\\site-packages (from pycocotools) (3.7.1)\n",
      "Requirement already satisfied: numpy in c:\\users\\franf\\appdata\\local\\programs\\python\\python311\\lib\\site-packages (from pycocotools) (1.24.3)\n",
      "Requirement already satisfied: contourpy>=1.0.1 in c:\\users\\franf\\appdata\\local\\programs\\python\\python311\\lib\\site-packages (from matplotlib>=2.1.0->pycocotools) (1.0.7)\n",
      "Requirement already satisfied: cycler>=0.10 in c:\\users\\franf\\appdata\\local\\programs\\python\\python311\\lib\\site-packages (from matplotlib>=2.1.0->pycocotools) (0.11.0)\n",
      "Requirement already satisfied: fonttools>=4.22.0 in c:\\users\\franf\\appdata\\local\\programs\\python\\python311\\lib\\site-packages (from matplotlib>=2.1.0->pycocotools) (4.39.3)\n",
      "Requirement already satisfied: kiwisolver>=1.0.1 in c:\\users\\franf\\appdata\\local\\programs\\python\\python311\\lib\\site-packages (from matplotlib>=2.1.0->pycocotools) (1.4.4)\n",
      "Requirement already satisfied: packaging>=20.0 in c:\\users\\franf\\appdata\\roaming\\python\\python311\\site-packages (from matplotlib>=2.1.0->pycocotools) (23.1)\n",
      "Requirement already satisfied: pillow>=6.2.0 in c:\\users\\franf\\appdata\\local\\programs\\python\\python311\\lib\\site-packages (from matplotlib>=2.1.0->pycocotools) (10.3.0)\n",
      "Requirement already satisfied: pyparsing>=2.3.1 in c:\\users\\franf\\appdata\\local\\programs\\python\\python311\\lib\\site-packages (from matplotlib>=2.1.0->pycocotools) (3.0.9)\n",
      "Requirement already satisfied: python-dateutil>=2.7 in c:\\users\\franf\\appdata\\roaming\\python\\python311\\site-packages (from matplotlib>=2.1.0->pycocotools) (2.8.2)\n",
      "Requirement already satisfied: six>=1.5 in c:\\users\\franf\\appdata\\roaming\\python\\python311\\site-packages (from python-dateutil>=2.7->matplotlib>=2.1.0->pycocotools) (1.16.0)\n"
     ]
    },
    {
     "name": "stderr",
     "output_type": "stream",
     "text": [
      "DEPRECATION: Loading egg at c:\\users\\franf\\appdata\\local\\programs\\python\\python311\\lib\\site-packages\\vboxapi-1.0-py3.11.egg is deprecated. pip 24.3 will enforce this behaviour change. A possible replacement is to use pip for package installation.. Discussion can be found at https://github.com/pypa/pip/issues/12330\n"
     ]
    }
   ],
   "source": [
    "!pip install pycocotools"
   ]
  },
  {
   "cell_type": "code",
   "execution_count": 3,
   "metadata": {},
   "outputs": [
    {
     "name": "stdout",
     "output_type": "stream",
     "text": [
      "loading annotations into memory...\n",
      "Done (t=0.31s)\n",
      "creating index...\n",
      "index created!\n",
      "Loading and preparing results...\n",
      "DONE (t=0.09s)\n",
      "creating index...\n",
      "index created!\n",
      "Running per image evaluation...\n",
      "Evaluate annotation type *keypoints*\n",
      "DONE (t=1.19s).\n",
      "Accumulating evaluation results...\n",
      "DONE (t=0.05s).\n",
      " Average Precision  (AP) @[ IoU=0.50:0.95 | area=   all | maxDets= 20 ] = 0.088\n",
      " Average Precision  (AP) @[ IoU=0.50      | area=   all | maxDets= 20 ] = 0.164\n",
      " Average Precision  (AP) @[ IoU=0.75      | area=   all | maxDets= 20 ] = 0.087\n",
      " Average Precision  (AP) @[ IoU=0.50:0.95 | area=medium | maxDets= 20 ] = 0.029\n",
      " Average Precision  (AP) @[ IoU=0.50:0.95 | area= large | maxDets= 20 ] = 0.170\n",
      " Average Recall     (AR) @[ IoU=0.50:0.95 | area=   all | maxDets= 20 ] = 0.132\n",
      " Average Recall     (AR) @[ IoU=0.50      | area=   all | maxDets= 20 ] = 0.201\n",
      " Average Recall     (AR) @[ IoU=0.75      | area=   all | maxDets= 20 ] = 0.140\n",
      " Average Recall     (AR) @[ IoU=0.50:0.95 | area=medium | maxDets= 20 ] = 0.039\n",
      " Average Recall     (AR) @[ IoU=0.50:0.95 | area= large | maxDets= 20 ] = 0.258\n",
      "\n",
      "BlazePose Metrics:\n",
      "Average Precision (AP): 0.08849632371629948\n",
      "Average Recall (AR): 0.03933351543294182\n"
     ]
    }
   ],
   "source": [
    "\n",
    "from pycocotools.coco import COCO\n",
    "from pycocotools.cocoeval import COCOeval\n",
    "\n",
    "# Cargar las anotaciones de COCO y los resultados de OpenPose\n",
    "coco_annotations = '../../person_keypoints_val2017.json'\n",
    "#openpose_results = '/path/to/openpose_annotations.json'  #este es el que hay que cambiar\n",
    "blazepose_results = '../blazepose/blazepose_results-wholeBody.json' \n",
    "\n",
    "coco_gt = COCO(coco_annotations)\n",
    "#coco_openpose_dt = coco_gt.loadRes(openpose_results)\n",
    "coco_blazepose_dt = coco_gt.loadRes(blazepose_results)\n",
    "\n",
    "# Evaluar OpenPose\n",
    "#coco_eval_openpose = COCOeval(coco_gt, coco_openpose_dt, 'keypoints')\n",
    "#coco_eval_openpose.evaluate()\n",
    "#coco_eval_openpose.accumulate()\n",
    "#coco_eval_openpose.summarize()\n",
    "\n",
    "# Evaluar BlazePose\n",
    "coco_eval_blazepose = COCOeval(coco_gt, coco_blazepose_dt, 'keypoints')\n",
    "coco_eval_blazepose.evaluate()\n",
    "coco_eval_blazepose.accumulate()\n",
    "coco_eval_blazepose.summarize()\n",
    "\n",
    "# Comparar métricas\n",
    "#print(\"OpenPose Metrics:\")\n",
    "#print(\"Average Precision (AP):\", coco_eval_openpose.stats[0])\n",
    "#print(\"Average Recall (AR):\", coco_eval_openpose.stats[8])\n",
    "\n",
    "print(\"\\nBlazePose Metrics:\")\n",
    "print(\"Average Precision (AP):\", coco_eval_blazepose.stats[0])\n",
    "print(\"Average Recall (AR):\", coco_eval_blazepose.stats[8])\n"
   ]
  }
 ],
 "metadata": {
  "kernelspec": {
   "display_name": "Python 3",
   "language": "python",
   "name": "python3"
  },
  "language_info": {
   "codemirror_mode": {
    "name": "ipython",
    "version": 3
   },
   "file_extension": ".py",
   "mimetype": "text/x-python",
   "name": "python",
   "nbconvert_exporter": "python",
   "pygments_lexer": "ipython3",
   "version": "3.11.5"
  }
 },
 "nbformat": 4,
 "nbformat_minor": 2
}
